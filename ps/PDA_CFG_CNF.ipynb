{
  "cells": [
    {
      "cell_type": "markdown",
      "metadata": {
        "id": "view-in-github",
        "colab_type": "text"
      },
      "source": [
        "<a href=\"https://colab.research.google.com/github/cd-public/compute/blob/main/ps/PDA_CFG_CNF.ipynb\" target=\"_parent\"><img src=\"https://colab.research.google.com/assets/colab-badge.svg\" alt=\"Open In Colab\"/></a>"
      ]
    },
    {
      "cell_type": "markdown",
      "source": [
        "# Context Free Grammars and Pushdown Automata\n",
        "*Theory of Computation: Problem Set Two*"
      ],
      "metadata": {
        "id": "e1Die-rSrVjO"
      }
    },
    {
      "cell_type": "markdown",
      "source": [
        "## Introduction"
      ],
      "metadata": {
        "id": "f0XIBHxHrc8F"
      }
    },
    {
      "cell_type": "markdown",
      "source": [
        "### Pushdown Automaton (PDA)\n",
        "\n",
        "A Pushdown Automaton (PDA) is a 6-tuple:\n",
        "\n",
        "**(Q, Σ, Γ, δ, q₀, Z₀, F)**\n",
        "\n",
        "Where:\n",
        "\n",
        "* **Q:** A finite, non-empty set of *states*.\n",
        "\n",
        "* **Σ:** A finite, non-empty set of *input symbols* (the alphabet).\n",
        "\n",
        "* **Γ:** A finite, non-empty set of *stack symbols*.\n",
        "\n",
        "* **δ:** A *transition function*, where δ: Q × (Σ ∪ {ε}) × Γ → 2^(Q × Γ*).  \n",
        "  \n",
        "    * This is the key difference from a DFA.  It takes a state, an input symbol (or ε for an epsilon-transition), and a stack symbol as input.  \n",
        "    * It returns a *set* of possible next configurations, where each configuration consists of a next state and a string to replace the top stack symbol with.  \n",
        "    * This allows for nondeterminism and stack manipulation.\n",
        "\n",
        "* **q₀:** The *initial state*, where q₀ ∈ Q.\n",
        "\n",
        "* **F:** A set of *accepting states* (or final states), where F ⊆ Q.  Acceptance can be defined in two ways:\n",
        "    * **Acceptance by final state:** The PDA accepts the input string if, after processing the entire string, the PDA is in one of the accepting states (F).\n",
        "    * **Acceptance by empty stack:** The PDA accepts the input string if, after processing the entire string, the stack is empty.  (Sometimes, both final state and empty stack acceptance are used, but they define the same class of languages.)\n",
        "\n",
        "**In simpler terms:**\n",
        "\n",
        "A PDA is like a DFA but with an added *stack*.  It reads input symbols one at a time, just like a DFA.  However, its transitions depend not only on the current state and input symbol but also on the symbol at the *top of the stack*.  The PDA can also *manipulate the stack* by pushing new symbols onto it or popping symbols off.  This stack gives the PDA more memory and allows it to recognize a wider class of languages than DFAs (specifically, context-free languages).  The non-deterministic nature of the transition function means that for a given input, the PDA may have multiple possible execution paths."
      ],
      "metadata": {
        "id": "ZgvJDdGZi7fn"
      }
    },
    {
      "cell_type": "markdown",
      "source": [
        "$D=\\{0^k1^k|k∈\\mathbb{N}\\}$"
      ],
      "metadata": {
        "id": "cxjSUOWXsIn8"
      }
    },
    {
      "cell_type": "code",
      "source": [
        "q_1 = lambda s, stack : [stack.append('0'), q_1(s[1:], stack)][-1] if s[0] == '0' and len(s) > 1 else [stack.pop(), q_2(s[1:], stack)][-1]\n",
        "q_2 = lambda s, stack : [stack.pop(), q_2(s[1:],stack)][-1] if s[0] == '1' and len(s) > 1 else q_n(s, stack)\n",
        "q_n = lambda s, stack : s == '1' and len(stack) == 1\n",
        "q_1('000111', []), q_1('00111', []), q_1('00011', [])"
      ],
      "metadata": {
        "id": "ndco7HNdi6ld"
      },
      "execution_count": null,
      "outputs": []
    },
    {
      "cell_type": "markdown",
      "source": [
        "### Context-Free Grammar (CFG)\n",
        "\n",
        "A Context-Free Grammar (CFG) is a 4-tuple:\n",
        "\n",
        "**(V, Σ, R, S)**\n",
        "\n",
        "Where:\n",
        "\n",
        "* **V:** A finite, non-empty set of *variables* (or non-terminal symbols).  These represent syntactic categories or placeholders.\n",
        "\n",
        "* **Σ:** A finite, non-empty set of *terminals*.  These are the actual symbols that make up the strings of the language.  Σ and V are disjoint (V ∩ Σ = ∅).\n",
        "\n",
        "* **R:** A finite set of *production rules*.  Each rule has the form A → α, where A ∈ V and α ∈ (V ∪ Σ)*.  This means the left-hand side of a rule is always a single variable, and the right-hand side can be any string of variables and terminals (including the empty string, ε).\n",
        "\n",
        "* **S:** The *start symbol*, where S ∈ V.  This is the variable from which derivations begin.\n",
        "\n",
        "**In simpler terms:**\n",
        "\n",
        "A CFG is a set of rules that describe how to generate strings of a language.  You start with the start symbol (S) and repeatedly apply the production rules, replacing variables with the strings on the right-hand side of the rules.  This process continues until all variables have been replaced by terminals.  The set of all strings that can be derived in this way from the start symbol is the language generated by the CFG.  The \"context-free\" part means that the left-hand side of a production rule is a single variable, so the replacement can happen regardless of the surrounding symbols (the \"context\").\n",
        "\n",
        "**Example:**\n",
        "\n",
        "A simple CFG for arithmetic expressions:\n",
        "\n",
        "* V = $\\{E\\}$  \n",
        "  * (Expression)\n",
        "* Σ = $\\{+, *, (, ), a\\}$\n",
        "  * (plus, times, open paren, close paren, identifier)\n",
        "* R =\n",
        "$$\n",
        "\\begin{align}\n",
        "\\{&&\\\\\n",
        "    &E → &E + E\\\\\n",
        "    &E → &E \\times E\\\\\n",
        "    &E → &(E)\\\\\n",
        "    &E → &a\\\\\n",
        "  \\}&&\\\\\n",
        "\\end{align}\n",
        "$$\n",
        "* S = E\n",
        "\n",
        "This grammar can generate expressions like \"$a + a \\times a$\" or \"$(a + a) * a$\"."
      ],
      "metadata": {
        "id": "30HyanoGjpu9"
      }
    },
    {
      "cell_type": "markdown",
      "source": [
        "The following isn't quite right. What's wrong?"
      ],
      "metadata": {
        "id": "uUTR5Zzds5Pe"
      }
    },
    {
      "cell_type": "code",
      "source": [
        "from itertools import count # infinite iterator\n",
        "from itertools import combinations_with_replacement as cwr\n",
        "# define variables, so we can use them\n",
        "rules = (\n",
        "  lambda s : s.replace(\"E\", \"E+E\"),\n",
        "  lambda s : s.replace(\"E\", \"ExE\"),\n",
        "  lambda s : s.replace(\"E\", \"(E)\"),\n",
        "  lambda s : s.replace(\"E\", \"a\")\n",
        ")\n",
        "trans = lambda fs, s: fs[0](trans(fs[1:], s)) if len(fs) else s\n",
        "\n",
        "G_2 = (trans(fs,'E') for n in count() for fs in cwr(rules, n))\n",
        "\n",
        "next(G_2), next(G_2), next(G_2)"
      ],
      "metadata": {
        "id": "G2yENoq5khbi"
      },
      "execution_count": null,
      "outputs": []
    },
    {
      "cell_type": "markdown",
      "source": [
        "### Chomsky Normal Form (CNF)\n",
        "\n",
        "A Context-Free Grammar (CFG) is in Chomsky Normal Form (CNF) if all production rules are in one of the following forms:\n",
        "\n",
        "1. **A → BC:**  Where A, B, and C are variables (non-terminals).  Neither B nor C can be the start symbol.\n",
        "\n",
        "2. **A → a:**  Where A is a variable and 'a' is a terminal.\n",
        "\n",
        "3. **S → ε:** Where S is the start symbol and ε is the empty string.  This rule is only allowed if ε is in the language generated by the grammar.\n",
        "\n",
        "**In simpler terms:**\n",
        "\n",
        "CNF is a standardized form for CFGs that simplifies certain proofs and algorithms related to context-free languages.  It restricts the structure of production rules so that they are either:\n",
        "\n",
        "* Replacing a variable with two other variables.\n",
        "* Replacing a variable with a single terminal.\n",
        "* (Possibly) replacing the start symbol with the empty string.\n",
        "\n",
        "**Why CNF is Important:**\n",
        "\n",
        "CNF is important because:\n",
        "\n",
        "* **Simplifies parsing:** Many parsing algorithms (like the CYK algorithm) require the grammar to be in CNF.\n",
        "* **Theoretical significance:**  It's a useful normal form for proving properties of context-free languages.  Any CFG can be converted to CNF.\n",
        "\n",
        "**Example Conversion (Simplified):**\n",
        "\n",
        "Let's say we have a rule `A → X Y Z`.  In CNF, we would introduce a new variable, say `V`, and rewrite the rule as:\n",
        "\n",
        "* `A → X V`\n",
        "* `V → Y Z`\n",
        "\n",
        "This breaks down the longer production into a series of productions where each right-hand side has at most two symbols, and those symbols are variables (except for the base case of a variable deriving a terminal).  More complex transformations are needed to handle other cases, like rules with terminals on the right-hand side or rules where a variable derives itself."
      ],
      "metadata": {
        "id": "HFr_gt_GvfJ-"
      }
    },
    {
      "cell_type": "markdown",
      "source": [
        "## Problem 1\n",
        "\n",
        "Construct the pushdown automata that recognizes the language of bit strings for which there are the same number of `0` characters/digits/symbols/letters and `1` characters/digits/symbols/letters.\n",
        "\n",
        "You may use the transitions from the introduction to help you get started, but must specify a full-tuple of the form:\n",
        "\n",
        "```py\n",
        "M = (Q,S,G,d,q_0,F)\n",
        "```\n"
      ],
      "metadata": {
        "id": "1Hb_DWItr3m_"
      }
    },
    {
      "cell_type": "code",
      "source": [
        "# Your Code Here"
      ],
      "metadata": {
        "id": "9Sl-PxgashU1"
      },
      "execution_count": null,
      "outputs": []
    },
    {
      "cell_type": "markdown",
      "source": [
        "## Problem 2\n",
        "\n",
        "Create in the Python this simple yet unambigious CFG for arithmetic expressions:\n",
        "\n",
        "* V = $\\{E, T, F\\}$  \n",
        "  * (Expression, Term, Factor)\n",
        "* Σ = $\\{+, *, (, ), a\\}$\n",
        "  * (plus, times, open paren, close paren, identifier)\n",
        "* R =\n",
        "$$\n",
        "\\begin{align}\n",
        "\\{&&\\\\\n",
        "    &E → &E + E,\\\\\n",
        "    &E → &E \\times E,\\\\\n",
        "    &T → &T * F,\\\\\n",
        "    &T → &F,\\\\\n",
        "    &F → &(E),\\\\\n",
        "    &F → &a\\\\\n",
        "  \\}&&\\\\\n",
        "  \\end{align}\n",
        "$$\n",
        "* S = E\n",
        "\n",
        "This grammar can generate expressions like \"a + a * a\" or \"(a + a) * a\"."
      ],
      "metadata": {
        "id": "1cS7E1nQsngr"
      }
    },
    {
      "cell_type": "code",
      "source": [
        "# Your Code Here"
      ],
      "metadata": {
        "id": "Wpyh-dJ4tP6Y"
      },
      "execution_count": null,
      "outputs": []
    },
    {
      "cell_type": "markdown",
      "source": [
        "## Problem 3\n",
        "\n",
        "Translate your Problem 2 solution into Chomsky Normal Form (CNF)"
      ],
      "metadata": {
        "id": "WFkG2HjUtFTF"
      }
    },
    {
      "cell_type": "code",
      "source": [
        "# Your Code Here"
      ],
      "metadata": {
        "id": "yBXurgVJtOHZ"
      },
      "execution_count": null,
      "outputs": []
    },
    {
      "cell_type": "markdown",
      "source": [
        "## Problem 4\n",
        "\n",
        "Translate your Problem 2/3 solution into a Pushdown Automaton (PDA)"
      ],
      "metadata": {
        "id": "anLfMJ-VtRua"
      }
    },
    {
      "cell_type": "code",
      "source": [
        "# Your Code Here"
      ],
      "metadata": {
        "id": "343NNQ7Std37"
      },
      "execution_count": null,
      "outputs": []
    },
    {
      "cell_type": "markdown",
      "source": [
        "## Problem 5\n",
        "\n",
        "Translate your Problem 1 solution into a CNF CFG (a Chomsky Normal Form Context Free Grammar)."
      ],
      "metadata": {
        "id": "lq5mFfkyvtbI"
      }
    }
  ],
  "metadata": {
    "colab": {
      "provenance": [],
      "authorship_tag": "ABX9TyNhTrb8kQyIrHdAYj/Nh7Oc",
      "include_colab_link": true
    },
    "kernelspec": {
      "display_name": "Python 3",
      "name": "python3"
    },
    "language_info": {
      "name": "python"
    }
  },
  "nbformat": 4,
  "nbformat_minor": 0
}