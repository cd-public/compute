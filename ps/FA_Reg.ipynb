{
  "cells": [
    {
      "cell_type": "markdown",
      "metadata": {
        "id": "view-in-github",
        "colab_type": "text"
      },
      "source": [
        "<a href=\"https://colab.research.google.com/github/cd-public/compute/blob/main/ps/FA_Reg.ipynb\" target=\"_parent\"><img src=\"https://colab.research.google.com/assets/colab-badge.svg\" alt=\"Open In Colab\"/></a>"
      ]
    },
    {
      "cell_type": "markdown",
      "source": [
        "# Finite Automata and Regular Languages\n",
        "*Theory of Computation: Problem Set One*"
      ],
      "metadata": {
        "id": "e1Die-rSrVjO"
      }
    },
    {
      "cell_type": "markdown",
      "source": [
        "## Introduction"
      ],
      "metadata": {
        "id": "f0XIBHxHrc8F"
      }
    },
    {
      "cell_type": "markdown",
      "source": [
        "### Deterministic Finite Automaton (DFA)\n",
        "\n",
        "A Deterministic Finite Automaton (DFA) is a 5-tuple:\n",
        "\n",
        "**(Q, Σ, δ, q₀, F)**\n",
        "\n",
        "Where:\n",
        "\n",
        "* **Q:** A finite, non-empty set of *states*.\n",
        "\n",
        "* **Σ:** A finite, non-empty set of *input symbols* (the alphabet).\n",
        "\n",
        "* **δ:** A *transition function*, where δ: Q × Σ → Q.  This function takes a state and an input symbol as arguments and returns a single next state.  This is the \"deterministic\" part - for any given state and input, there is *exactly one* next state.\n",
        "\n",
        "* **q₀:** The *initial state*, where q₀ ∈ Q. The DFA starts processing input from this state.\n",
        "\n",
        "* **F:** A set of *accepting states* (or final states), where F ⊆ Q.  If the DFA ends in a state that is a member of F after processing the entire input string, the string is considered accepted.\n",
        "\n",
        "**In simpler terms:**\n",
        "\n",
        "A DFA is a machine that reads a string of symbols one at a time.  It starts in a specific state (q₀). For each symbol it reads, it transitions to another state according to the transition function (δ).  After reading the entire string, if the DFA is in one of the accepting states (F), the string is accepted; otherwise, it is rejected.  The key feature is that the next state is *uniquely determined* by the current state and the current input symbol."
      ],
      "metadata": {
        "id": "ZgvJDdGZi7fn"
      }
    },
    {
      "cell_type": "code",
      "source": [
        "# We can also express a DFA in Pythonic JSON, by creating some unique Python object to represent each state.\n",
        "# Inputs to this DFA would be lists of numerical zero and one, representing bit strings.\n",
        "\n",
        "q_1, q_2, q_3 = \"q_1\", \"q_2\", \"q_3\"\n",
        "# define M_1\n",
        "Q = {q_1, q_2, q_3}\n",
        "S = {0, 1}\n",
        "d = {\n",
        "    q_1 : { 0:q_1, 1:q_2 },\n",
        "    q_2 : { 0:q_1, 1:q_3 },\n",
        "    q_3 : { 0:q_3, 1:q_3 }\n",
        "}\n",
        "M_1 = (Q,S,d,q_1,{q_3})"
      ],
      "metadata": {
        "id": "ndco7HNdi6ld"
      },
      "execution_count": null,
      "outputs": []
    },
    {
      "cell_type": "markdown",
      "source": [
        "### Regular Languages\n",
        "\n",
        "Regular languages over an alphabet Σ are defined recursively as follows:\n",
        "\n",
        "1. **Base Cases:**\n",
        "    * The empty language, ∅, is a regular language.\n",
        "    * The language containing the empty string, {ε}, is a regular language.\n",
        "    * For each symbol 'a' in Σ, the language {a} is a regular language.\n",
        "\n",
        "2. **Inductive Steps (Regular Operations):**\n",
        "    * If L₁ and L₂ are regular languages, then:\n",
        "        * **Union:** L₁ ∪ L₂ = {w | w ∈ L₁ or w ∈ L₂} is a regular language.  (The set of strings that are in either L₁ or L₂.)\n",
        "        * **Concatenation:** L₁L₂ = {xy | x ∈ L₁ and y ∈ L₂} is a regular language. (The set of strings formed by concatenating a string from L₁ with a string from L₂.)\n",
        "        * **Kleene Star:** L₁* = {ε} ∪ L₁ ∪ L₁L₁ ∪ L₁L₁L₁ ∪ ... is a regular language. (The set of strings formed by concatenating zero or more strings from L₁.)\n",
        "\n",
        "We note the below we will implement *recognizers* not *generators* in deviation from theory, but we will use regular operations to create recognizers."
      ],
      "metadata": {
        "id": "30HyanoGjpu9"
      }
    },
    {
      "cell_type": "markdown",
      "source": [
        "### Construct first the atomics"
      ],
      "metadata": {
        "id": "uogwJ2Pam4lL"
      }
    },
    {
      "cell_type": "code",
      "source": [
        "# We can express a Regular Language in Python as functions that return true on reading some input in Σ^n\n",
        "\n",
        "Sigma = [0,1]\n",
        "\n",
        "empty_lng = lambda x: x == []\n",
        "empty_str = lambda x: x == [\"\"]\n",
        "# https://stackoverflow.com/questions/6076270/lambda-function-in-list-comprehensions\n",
        "atomics_n = [lambda x, b=s: x == [b] for s in Sigma]"
      ],
      "metadata": {
        "id": "G2yENoq5khbi"
      },
      "execution_count": 32,
      "outputs": []
    },
    {
      "cell_type": "markdown",
      "source": [
        "### Construct  then the Regular Operations"
      ],
      "metadata": {
        "id": "-Glb-O1Lm7QB"
      }
    },
    {
      "cell_type": "code",
      "source": [
        "union_lng = lambda L1, L2: lambda x: L1(x) or L2(x)\n",
        "concatlng = lambda L1, L2: lambda x: any([L1(x[:-i]) and L2(x[-i:]) for i in range(len(x))])\n",
        "kleenelng = lambda L1: lambda x: empty_lng(x) or L1(x) or concatlng(L1,kleenelng(L1))(x)"
      ],
      "metadata": {
        "id": "_r4tmuLRm_ai"
      },
      "execution_count": 26,
      "outputs": []
    },
    {
      "cell_type": "markdown",
      "source": [
        "### Construct an example"
      ],
      "metadata": {
        "id": "GmEbldqIrSpF"
      }
    },
    {
      "cell_type": "code",
      "source": [
        "L_1 = union_lng(kleenelng(atomics_n[0]),kleenelng(atomics_n[1]))\n",
        "L_1([0,0,0,0]), L_1([1,1,1,1]), L_1([0,0,1,1]), L_1([0,0]),"
      ],
      "metadata": {
        "colab": {
          "base_uri": "https://localhost:8080/"
        },
        "id": "OepvEjEXqcJr",
        "outputId": "497bb697-4888-4722-e35e-363a45db54d2"
      },
      "execution_count": 37,
      "outputs": [
        {
          "output_type": "execute_result",
          "data": {
            "text/plain": [
              "(True, True, False, True)"
            ]
          },
          "metadata": {},
          "execution_count": 37
        }
      ]
    },
    {
      "cell_type": "markdown",
      "source": [
        "## Problem 1\n",
        "\n",
        "Construct the regular language equivalent to the DFA shown in the introduction, using the atomics and the regular operations."
      ],
      "metadata": {
        "id": "1Hb_DWItr3m_"
      }
    },
    {
      "cell_type": "code",
      "source": [
        "# Your Code Here"
      ],
      "metadata": {
        "id": "9Sl-PxgashU1"
      },
      "execution_count": null,
      "outputs": []
    },
    {
      "cell_type": "markdown",
      "source": [
        "## Problem 2\n",
        "\n",
        "* Construct the DFA equivalent to the regular language shown in the introduction, using the states."
      ],
      "metadata": {
        "id": "1cS7E1nQsngr"
      }
    },
    {
      "cell_type": "code",
      "source": [
        "# Your Code Here"
      ],
      "metadata": {
        "id": "Wpyh-dJ4tP6Y"
      },
      "execution_count": null,
      "outputs": []
    },
    {
      "cell_type": "markdown",
      "source": [
        "## Problem 3\n",
        "\n",
        "\n",
        "* Create a function that, given a regular language and a \"bit string\", by which we mean a Pythonic list of numerical zero and one values, returns a Pythonic boolean if the bit string is recognized by the DFA.\n",
        "* Test your solutions to Problem 1 and Problem 2 over no fewer than 10 bit strings, showing equivalence in all cases."
      ],
      "metadata": {
        "id": "WFkG2HjUtFTF"
      }
    },
    {
      "cell_type": "code",
      "source": [
        "# Your Code Here"
      ],
      "metadata": {
        "id": "yBXurgVJtOHZ"
      },
      "execution_count": null,
      "outputs": []
    },
    {
      "cell_type": "markdown",
      "source": [
        "## Problem 4\n",
        "\n",
        "* Create a function that, given a DFA, constructs the equivalent regular language and returns this regular language as a function."
      ],
      "metadata": {
        "id": "anLfMJ-VtRua"
      }
    },
    {
      "cell_type": "code",
      "source": [
        "# Your Code Here"
      ],
      "metadata": {
        "id": "343NNQ7Std37"
      },
      "execution_count": null,
      "outputs": []
    }
  ],
  "metadata": {
    "colab": {
      "provenance": [],
      "authorship_tag": "ABX9TyPbAwi0Rtd9ED+gi8jNYjGl",
      "include_colab_link": true
    },
    "kernelspec": {
      "display_name": "Python 3",
      "name": "python3"
    },
    "language_info": {
      "name": "python"
    }
  },
  "nbformat": 4,
  "nbformat_minor": 0
}