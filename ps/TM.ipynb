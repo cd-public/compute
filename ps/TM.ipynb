{
  "cells": [
    {
      "cell_type": "markdown",
      "metadata": {
        "id": "view-in-github",
        "colab_type": "text"
      },
      "source": [
        "<a href=\"https://colab.research.google.com/github/cd-public/compute/blob/main/ps/TM.ipynb\" target=\"_parent\"><img src=\"https://colab.research.google.com/assets/colab-badge.svg\" alt=\"Open In Colab\"/></a>"
      ]
    },
    {
      "cell_type": "markdown",
      "source": [
        "# The Turing Machine\n",
        "*Theory of Computation: Problem Set Three*"
      ],
      "metadata": {
        "id": "e1Die-rSrVjO"
      }
    },
    {
      "cell_type": "markdown",
      "source": [
        "## Introduction"
      ],
      "metadata": {
        "id": "f0XIBHxHrc8F"
      }
    },
    {
      "cell_type": "markdown",
      "source": [
        "## Introduction\n",
        "\n",
        "### Turing Machine (TM)\n",
        "\n",
        "A Turing Machine (TM) is a 7-tuple:\n",
        "\n",
        "**(Q, Σ, Γ, δ, q₀, b, F)**\n",
        "\n",
        "Where:\n",
        "\n",
        "* **Q:** A finite, non-empty set of *states*.\n",
        "\n",
        "* **Σ:** A finite, non-empty set of *input symbols* (the alphabet).\n",
        "\n",
        "* **Γ:** A finite, non-empty set of *tape symbols*. This includes Σ and a special blank symbol (b).\n",
        "\n",
        "* **δ:** A *transition function*, where δ: Q × Γ → Q × Γ × {L, R}.  \n",
        "  \n",
        "    * This is the key component of a TM. It takes a state and a tape symbol as input.  \n",
        "    * It returns a new state, a symbol to write on the tape, and a direction to move the tape head (Left or Right).\n",
        "\n",
        "* **q₀:** The *initial state*, where q₀ ∈ Q.\n",
        "\n",
        "* **b:** The *blank symbol*, b ∈ Γ but b ∉ Σ.\n",
        "\n",
        "* **F:** A set of *accepting states* (or final states), where F ⊆ Q. The TM accepts the input string if it halts in an accepting state.\n",
        "\n",
        "**In simpler terms:**\n",
        "\n",
        "A Turing Machine is a theoretical model of computation that manipulates symbols on an infinite tape according to a table of rules. It reads an input symbol, transitions to a new state, writes a symbol, and moves the tape head. This process continues until it reaches a halting state (either accepting or rejecting). Turing machines are considered to be the most powerful computational model, capable of computing anything that is computable.\n",
        "\n",
        "### Example:\n",
        "\n",
        "Consider a TM that recognizes the language of strings consisting of an equal number of 0s and 1s:\n",
        "\n",
        "* **Q:** $\\{q_0, q_1, q_2, q_{Accept}, q_{Reject}\\}$\n",
        "* **Σ:** {0, 1}\n",
        "* **Γ:** {0, 1, b}\n",
        "* **δ:**  (See transition table below)\n",
        "* **q₀:** $q_0$\n",
        "* **b:** b\n",
        "* **F:** $\\{q_{Accept}\\}$\n",
        "\n",
        "**Transition Table:**\n",
        "\n",
        "| State | Input | Output | Move | New State |\n",
        "|---|---|---|---|---|\n",
        "| $q_0$ | 0 | b | R | $q_1$ |\n",
        "| $q_0$ | 1 | b | R | $q_2$ |\n",
        "| $q_0$ | b | b | R | $q_{Accept}$ |\n",
        "| $q_1$ | 0 | 0 | R | $q_1$ |\n",
        "| $q_1$ | 1 | b | L | $q_3$ |\n",
        "| $q_1$ | b | b | L | $q_{Reject}$ |\n",
        "| $q_2$ | 0 | b | L | $q_3$ |\n",
        "| $q_2$ | 1 | 1 | R | $q_2$ |\n",
        "| $q_2$ | b | b | L | $q_{Reject}$ |\n",
        "| $q_3$ | 0 | 0 | L | $q_3$ |\n",
        "| $q_3$ | 1 | 1 | L | $q_3$ |\n",
        "| $q_3$ | b | b | R | $q_0$ |\n",
        "\n",
        "This TM starts in state $q_0$. If it reads a 0, it replaces it with a blank, moves right, and transitions to $q_1$. If it reads a 1, it replaces it with a blank, moves right, and transitions to $q_2$.  It continues in this manner, essentially crossing off 0s and 1s. If it encounters a blank in state $q_0$, it accepts the input. If it encounters a blank in states $q_1$ or $q_2$, it rejects the input.\n",
        "\n",
        "This is a simplified example, but it illustrates the basic principles of Turing machine operation.\n",
        "\n",
        "## Problem 1\n",
        "\n",
        "Construct the Turing machine that recognizes the language of bit strings for which there are the same number of `0`, `1`, and `2` characters/digits/symbols/letters.\n",
        "\n",
        "$D=\\{0^k1^k2^k|k∈\\mathbb{N}\\}$\n",
        "\n",
        "You may use the transitions from the introduction to help you get started, but must specify a full-tuple of the form:\n",
        "\n",
        "**(Q, Σ, Γ, δ, q₀, b, F)**"
      ],
      "metadata": {
        "id": "ZgvJDdGZi7fn"
      }
    },
    {
      "cell_type": "code",
      "source": [
        "# Your Code Here"
      ],
      "metadata": {
        "id": "ndco7HNdi6ld"
      },
      "execution_count": null,
      "outputs": []
    },
    {
      "cell_type": "markdown",
      "source": [
        "Problem 2\n",
        "\n",
        "Use the pumping lemma for regular languages to show that $D$ may not be a regular language."
      ],
      "metadata": {
        "id": "ZEylJPdWrNXd"
      }
    },
    {
      "cell_type": "markdown",
      "source": [
        "Problem 3\n",
        "\n",
        "Use the pumping lemma for regular languages to show that $D$ may not be a context-free language."
      ],
      "metadata": {
        "id": "_8nNAMJ0rUxS"
      }
    }
  ],
  "metadata": {
    "colab": {
      "provenance": [],
      "authorship_tag": "ABX9TyN6PdcpDyJd2ORuJyiSFymw",
      "include_colab_link": true
    },
    "kernelspec": {
      "display_name": "Python 3",
      "name": "python3"
    },
    "language_info": {
      "name": "python"
    }
  },
  "nbformat": 4,
  "nbformat_minor": 0
}